{
 "cells": [
  {
   "attachments": {},
   "cell_type": "markdown",
   "metadata": {},
   "source": [
    "  <tr>\n",
    "        <td width=\"15%\">\n",
    "        </td>\n",
    "        <td>\n",
    "            <div align=\"Middle\">\n",
    "                <font size=25px>\n",
    "                    <b>  MNIST Multiclass Classifier using ANN with one hidden layer\n",
    "                    </b>\n",
    "                </font>\n",
    "            </div>\n",
    "        </td>\n",
    "    </tr>"
   ]
  },
  {
   "attachments": {},
   "cell_type": "markdown",
   "metadata": {},
   "source": [
    "## Dataset\n",
    "Downloaded directly from the curated repository "
   ]
  },
  {
   "attachments": {},
   "cell_type": "markdown",
   "metadata": {},
   "source": [
    "## Data Definition:\n",
    "60000 images denoting the nummbers 0 to 9"
   ]
  },
  {
   "attachments": {},
   "cell_type": "markdown",
   "metadata": {},
   "source": [
    "# Content\n",
    "\n",
    "**[1. Import Python modules](#1)**<br>\n",
    "**[2. Loading MNIST dataset and transforming](#2)**<br>\n",
    "**[3. Activation functions, Neuron Layer, Weigths and bias](#3)**<br>\n",
    "**[4. Initialize model, forward/ Back propagation, evaluation def function](#4)**<br>\n",
    "**[5. Building the Model](#5)**<br>\n",
    "**[6. The final parameter values](#6)**<br>\n",
    "**[7. Plot the initial and final weight distribution comparison](#7)**<br>\n",
    "**[8. Plot the accuracy vs. epoch  and F1 score](#8)**<br>\n",
    "**[9. Make predictions on the test set](#9)**<br>"
   ]
  },
  {
   "attachments": {},
   "cell_type": "markdown",
   "metadata": {},
   "source": [
    "<a id='1'></a>\n",
    "## Importing Libraries"
   ]
  },
  {
   "cell_type": "code",
   "execution_count": 2,
   "metadata": {},
   "outputs": [],
   "source": [
    "import numpy as np\n",
    "from sklearn.datasets import fetch_openml\n",
    "from sklearn.model_selection import train_test_split\n",
    "from sklearn.preprocessing import OneHotEncoder\n",
    "from sklearn.metrics import accuracy_score, f1_score\n",
    "import matplotlib.pyplot as plt\n",
    "import warnings\n",
    "warnings.filterwarnings(\"ignore\") "
   ]
  },
  {
   "attachments": {},
   "cell_type": "markdown",
   "metadata": {},
   "source": [
    "<a id='2'></a>\n",
    "## Loading MNIST dataset and transforming"
   ]
  },
  {
   "cell_type": "code",
   "execution_count": 3,
   "metadata": {},
   "outputs": [],
   "source": [
    "# Load MNIST dataset\n",
    "mnist = fetch_openml('mnist_784')\n",
    "X1 = mnist.data.astype('float32') / 255.0\n",
    "X = X1.values\n",
    "y1= mnist.target.astype('int')\n",
    "y = y1.values\n",
    "\n",
    "# Split the dataset into training and test sets\n",
    "X_train, X_test, y_train, y_test = train_test_split(X, y, test_size=0.2, random_state=42)\n",
    "\n",
    "# Convert y_train and y_test to NumPy arrays\n",
    "y_train = np.array(y_train)\n",
    "y_test = np.array(y_test)\n",
    "\n",
    "# One-hot encode the labels\n",
    "encoder = OneHotEncoder(sparse=False)\n",
    "y_train_encoded = encoder.fit_transform(y_train.reshape(-1, 1))\n",
    "y_test_encoded = encoder.transform(y_test.reshape(-1, 1))"
   ]
  },
  {
   "attachments": {},
   "cell_type": "markdown",
   "metadata": {},
   "source": [
    "<a id='3'></a>\n",
    "## Activation functions, Neuron Layer, Weigths and bias"
   ]
  },
  {
   "cell_type": "code",
   "execution_count": 4,
   "metadata": {},
   "outputs": [],
   "source": [
    "# Define the activation functions\n",
    "def relu(x):\n",
    "    return np.maximum(0, x)\n",
    "\n",
    "def softmax(x):\n",
    "    exps = np.exp(x - np.max(x, axis=1, keepdims=True))\n",
    "    return exps / np.sum(exps, axis=1, keepdims=True)"
   ]
  },
  {
   "cell_type": "code",
   "execution_count": 5,
   "metadata": {},
   "outputs": [],
   "source": [
    "# Define the number of neurons in each layer\n",
    "input_dim = X_train.shape[1]\n",
    "hidden_dim = 256\n",
    "output_dim = y_train_encoded.shape[1]"
   ]
  },
  {
   "cell_type": "code",
   "execution_count": 6,
   "metadata": {},
   "outputs": [],
   "source": [
    "# Initialize the weights and biases\n",
    "W1 = np.random.randn(input_dim, hidden_dim) * 0.01\n",
    "b1 = np.zeros(hidden_dim)\n",
    "W2 = np.random.randn(hidden_dim, output_dim) * 0.01\n",
    "b2 = np.zeros(output_dim)\n",
    "\n",
    "# Set hyperparameters\n",
    "learning_rate = 0.01\n",
    "num_epochs = 10\n",
    "batch_size = 64\n",
    "num_batches = X_train.shape[0] // batch_size\n",
    "\n",
    "# Training loop\n",
    "train_losses = []\n",
    "test_losses = []\n",
    "train_accuracies = []\n",
    "test_accuracies = []"
   ]
  },
  {
   "attachments": {},
   "cell_type": "markdown",
   "metadata": {},
   "source": [
    "<a id='4'></a>\n",
    "## Initialize model, forward/ Back propagation, evaluation def function"
   ]
  },
  {
   "cell_type": "code",
   "execution_count": 7,
   "metadata": {},
   "outputs": [
    {
     "name": "stdout",
     "output_type": "stream",
     "text": [
      "Epoch 1/10, Train Loss: 0.1784, Test Loss: 0.0953, Train Accuracy: 0.7910, Test Accuracy: 0.7956\n",
      "Epoch 2/10, Train Loss: 0.0671, Test Loss: 0.0517, Train Accuracy: 0.8667, Test Accuracy: 0.8646\n",
      "Epoch 3/10, Train Loss: 0.0458, Test Loss: 0.0415, Train Accuracy: 0.8869, Test Accuracy: 0.8871\n",
      "Epoch 4/10, Train Loss: 0.0390, Test Loss: 0.0371, Train Accuracy: 0.8971, Test Accuracy: 0.8959\n",
      "Epoch 5/10, Train Loss: 0.0355, Test Loss: 0.0347, Train Accuracy: 0.9026, Test Accuracy: 0.9024\n",
      "Epoch 6/10, Train Loss: 0.0333, Test Loss: 0.0327, Train Accuracy: 0.9088, Test Accuracy: 0.9081\n",
      "Epoch 7/10, Train Loss: 0.0316, Test Loss: 0.0314, Train Accuracy: 0.9123, Test Accuracy: 0.9141\n",
      "Epoch 8/10, Train Loss: 0.0302, Test Loss: 0.0301, Train Accuracy: 0.9155, Test Accuracy: 0.9159\n",
      "Epoch 9/10, Train Loss: 0.0290, Test Loss: 0.0291, Train Accuracy: 0.9194, Test Accuracy: 0.9188\n",
      "Epoch 10/10, Train Loss: 0.0279, Test Loss: 0.0282, Train Accuracy: 0.9223, Test Accuracy: 0.9224\n"
     ]
    }
   ],
   "source": [
    "for epoch in range(num_epochs):\n",
    "    # Shuffle the training data\n",
    "    indices = np.random.permutation(X_train.shape[0])\n",
    "    X_train_shuffled = X_train[indices]\n",
    "    y_train_shuffled = y_train_encoded[indices]\n",
    "\n",
    "    epoch_loss = 0\n",
    "\n",
    "    # Mini-batch training\n",
    "    for batch in range(num_batches):\n",
    "        start = batch * batch_size\n",
    "        end = start + batch_size\n",
    "\n",
    "        # Forward propagation\n",
    "        h = relu(np.dot(X_train_shuffled[start:end], W1) + b1)\n",
    "        y_pred = softmax(np.dot(h, W2) + b2)\n",
    "\n",
    "        # Compute the categorical cross-entropy loss\n",
    "        loss = -np.mean(y_train_shuffled[start:end] * np.log(y_pred + 1e-8))\n",
    "        epoch_loss += loss\n",
    "\n",
    "        # Backpropagation\n",
    "        grad_y_pred = (y_pred - y_train_shuffled[start:end]) / batch_size\n",
    "        grad_W2 = np.dot(h.T, grad_y_pred)\n",
    "        grad_b2 = np.sum(grad_y_pred, axis=0)\n",
    "        grad_h = np.dot(grad_y_pred, W2.T)\n",
    "        grad_relu = grad_h * (h > 0)\n",
    "        grad_W1 = np.dot(X_train_shuffled[start:end].T, grad_relu)\n",
    "        grad_b1 = np.sum(grad_relu, axis=0)\n",
    "\n",
    "        # Update parameters\n",
    "        W1 -= learning_rate * grad_W1\n",
    "        b1 -= learning_rate * grad_b1\n",
    "        W2 -= learning_rate * grad_W2\n",
    "        b2 -= learning_rate * grad_b2\n",
    "\n",
    "    # Compute the average loss for the epoch\n",
    "    epoch_loss /= num_batches\n",
    "    train_losses.append(epoch_loss)\n",
    "\n",
    "    # Evaluate on the test set\n",
    "    h = relu(np.dot(X_test, W1) + b1)\n",
    "    y_pred = softmax(np.dot(h, W2) + b2)\n",
    "    test_loss = -np.mean(y_test_encoded * np.log(y_pred + 1e-8))\n",
    "    test_losses.append(test_loss)\n",
    "\n",
    "    # Compute accuracies\n",
    "    y_train_pred = np.argmax(np.dot(relu(np.dot(X_train, W1) + b1), W2) + b2, axis=1)\n",
    "    y_test_pred = np.argmax(y_pred, axis=1)\n",
    "    train_accuracy = accuracy_score(y_train, y_train_pred)\n",
    "    test_accuracy = accuracy_score(y_test, y_test_pred)\n",
    "    train_accuracies.append(train_accuracy)\n",
    "    test_accuracies.append(test_accuracy)\n",
    "\n",
    "    # Print the loss and accuracy for the epoch\n",
    "    print(f\"Epoch {epoch+1}/{num_epochs}, Train Loss: {epoch_loss:.4f}, Test Loss: {test_loss:.4f}, \"\n",
    "          f\"Train Accuracy: {train_accuracy:.4f}, Test Accuracy: {test_accuracy:.4f}\")"
   ]
  },
  {
   "attachments": {},
   "cell_type": "markdown",
   "metadata": {},
   "source": [
    "<a id='5'></a>\n",
    "## Plot the loss function vs. epochs"
   ]
  },
  {
   "cell_type": "code",
   "execution_count": 8,
   "metadata": {},
   "outputs": [
    {
     "data": {
      "image/png": "[encoded data removed]",
      "text/plain": [
       "<Figure size 640x480 with 1 Axes>"
      ]
     },
     "metadata": {},
     "output_type": "display_data"
    }
   ],
   "source": [
    "# Plot the loss function vs. epochs\n",
    "plt.plot(range(1, num_epochs+1), train_losses, label='Train Loss')\n",
    "plt.plot(range(1, num_epochs+1), test_losses, label='Test Loss')\n",
    "plt.xlabel('Epoch')\n",
    "plt.ylabel('Loss')\n",
    "plt.legend()\n",
    "plt.show()"
   ]
  },
  {
   "attachments": {},
   "cell_type": "markdown",
   "metadata": {},
   "source": [
    "<a id='6'></a>\n",
    "## The final parameter values"
   ]
  },
  {
   "cell_type": "code",
   "execution_count": 9,
   "metadata": {},
   "outputs": [
    {
     "name": "stdout",
     "output_type": "stream",
     "text": [
      "\n",
      "Final Parameter Values:\n",
      "W1: [[-0.00865846  0.00400013 -0.00134541 ... -0.02352214 -0.01856845\n",
      "   0.01989977]\n",
      " [ 0.01434033  0.00898459 -0.00238531 ...  0.00706082 -0.00958527\n",
      "  -0.00686705]\n",
      " [ 0.01426236 -0.00405115 -0.00262177 ...  0.00614622 -0.00564162\n",
      "   0.01282137]\n",
      " ...\n",
      " [ 0.00655019  0.00203663 -0.00476341 ... -0.00668846 -0.01423833\n",
      "  -0.00661016]\n",
      " [-0.01428636  0.01430273  0.00571126 ...  0.0052901   0.00768371\n",
      "   0.0177603 ]\n",
      " [ 0.0033036   0.00645874 -0.00294604 ... -0.00375639  0.00080716\n",
      "  -0.02122929]]\n",
      "b1: [-5.67538877e-02  2.53088253e-02 -3.75935681e-02  2.91578251e-02\n",
      "  1.63612633e-02  1.33559631e-02  8.21456459e-03  3.93228072e-02\n",
      " -1.98407485e-02  8.19658060e-04  1.17760346e-02  4.35945569e-02\n",
      " -1.55576399e-02  1.13712101e-02  2.73760952e-02 -4.98087915e-02\n",
      " -1.40182578e-02 -2.65488889e-03 -1.04621958e-03 -5.22911651e-03\n",
      " -5.77953304e-03  4.20966679e-02  6.94520620e-03  6.92032880e-02\n",
      "  1.00272603e-02 -1.01708616e-02  4.24584388e-02  1.03889005e-02\n",
      "  9.25571813e-03  6.97537247e-02 -5.17130642e-03  1.60646049e-02\n",
      "  2.18023646e-02  3.43341027e-02 -1.42399450e-02  2.82318624e-02\n",
      " -1.73015972e-02  1.15990543e-02  4.35707623e-02 -7.42686028e-03\n",
      "  2.87362261e-02  7.47459607e-03  2.52032353e-04 -5.01808446e-03\n",
      "  7.49500761e-02  7.22770508e-02 -1.09628551e-02  2.18719721e-02\n",
      " -3.09677256e-04 -6.41303892e-03 -3.01870706e-02  3.78001123e-02\n",
      "  3.86771619e-02  3.47559747e-02 -2.51051277e-02  4.15326776e-02\n",
      "  2.75094763e-02 -2.28438196e-05  1.21085262e-02  5.84578212e-02\n",
      "  2.43064926e-03  3.44393113e-02 -7.46835769e-03  4.05171173e-02\n",
      "  1.84667298e-02 -2.32464065e-02  1.19264326e-05  1.18869869e-02\n",
      "  2.85193217e-02  2.83461323e-03 -1.70052445e-02 -1.16950227e-03\n",
      "  4.83526825e-03  3.12852745e-02  6.21767566e-02  4.89340554e-02\n",
      "  1.69569214e-02  1.81585360e-02  5.98575872e-02 -8.41823749e-03\n",
      "  3.06741669e-02  2.14722992e-02 -2.21367402e-03  2.51553428e-02\n",
      " -3.72997120e-04  7.01524100e-02 -5.41109284e-03  1.51185604e-03\n",
      " -2.94487336e-02  2.00654270e-03  2.58686801e-02  4.68733738e-03\n",
      "  2.91486133e-02  4.98726560e-02  2.75021107e-03 -2.73870591e-03\n",
      "  1.94276437e-02 -3.75445159e-02  2.41301366e-02  8.62214061e-03\n",
      " -1.41905664e-02 -2.88069265e-02 -3.55177572e-03 -1.66444151e-03\n",
      " -1.51754250e-03 -9.96757305e-03 -2.00734100e-03  4.84762748e-02\n",
      "  1.23603067e-03 -1.54823764e-02  1.56248182e-03  5.87064456e-02\n",
      " -3.39597430e-02  3.32769385e-03  2.15762078e-02  2.53591726e-02\n",
      "  4.13530999e-02 -1.49199807e-02  4.58608178e-03  7.91034826e-04\n",
      " -2.18749807e-02  5.13671195e-02  2.93318917e-02  6.93075947e-02\n",
      "  4.01384386e-02 -1.65075559e-02  8.96636690e-03  1.32407581e-02\n",
      "  9.17950024e-03  3.37326075e-03  1.71955535e-02  3.21428778e-02\n",
      " -5.21890844e-02 -1.50060237e-02  1.49532585e-02 -2.06914645e-02\n",
      "  3.00211341e-02  4.37598309e-02  1.15592012e-02  1.09177666e-02\n",
      "  4.78097309e-02 -5.65899819e-02  2.41144676e-02  1.58152106e-02\n",
      "  1.90783297e-02 -2.52258023e-02  3.55277081e-02  5.42049212e-02\n",
      "  3.90832752e-03  4.05791853e-02 -1.66493494e-04  1.79531478e-03\n",
      "  1.84428708e-02  8.06146450e-04  6.13936936e-02  3.73246435e-02\n",
      "  3.89148251e-03 -4.58778673e-03 -4.52929111e-03 -3.99312728e-03\n",
      "  8.95391790e-03  3.54888815e-02  2.33323292e-02 -7.01147134e-02\n",
      " -2.19319136e-03  3.72108661e-02 -3.69596353e-03  1.28430870e-02\n",
      " -4.18193789e-02  1.06768166e-02  4.65172719e-02  1.88545184e-03\n",
      " -8.62398018e-03  6.83692013e-03  1.02389923e-01  3.40821015e-02\n",
      "  5.57307572e-03  1.78568602e-02  1.33840490e-02 -1.50530699e-02\n",
      "  4.26129339e-02  8.88142004e-03  3.15298222e-02  4.26372469e-02\n",
      "  5.51025807e-03  2.57993722e-02  8.13866038e-03  9.30752398e-03\n",
      " -8.32029962e-03  2.74390532e-02 -1.03635624e-03  6.92202733e-02\n",
      "  4.84800957e-02 -1.40962555e-02  6.88525389e-02 -1.18183581e-03\n",
      "  3.08236114e-02  2.73049125e-03 -8.57103234e-03  1.97918420e-02\n",
      "  2.96248622e-02  3.13438921e-03  6.77904281e-03  6.75121794e-03\n",
      "  4.87382107e-02 -4.52959186e-03  2.34122948e-02  1.04371907e-03\n",
      "  5.84820889e-03  2.77167032e-02  2.98889425e-03  4.92484438e-02\n",
      " -3.12350023e-02 -4.73019160e-02 -3.56678849e-02  3.47778391e-02\n",
      "  7.36097478e-03  8.22869814e-02  5.46750835e-03 -1.77688300e-03\n",
      "  4.20076158e-03  1.41992850e-02 -1.16577777e-02  2.62937942e-02\n",
      "  5.55626886e-03 -6.75966192e-02  1.83887695e-02  6.61749078e-02\n",
      "  7.65803488e-02 -2.87886245e-02  2.25489241e-02  2.53188479e-03\n",
      " -7.37337571e-03 -5.99691785e-02 -5.98082292e-03  1.28592197e-02\n",
      "  8.90024383e-03  6.69355731e-02 -7.56776607e-03  1.00218602e-02\n",
      "  6.23972272e-02  3.84500494e-02 -1.84561008e-02  2.94106403e-02\n",
      " -1.18265811e-02  3.80412771e-02 -2.16047240e-02  1.60941924e-02\n",
      "  6.27129050e-03 -3.79028690e-02  6.08521392e-03 -2.99605764e-02\n",
      "  1.18493131e-02 -4.45027620e-03 -5.02122177e-02 -2.74942718e-02]\n",
      "W2: [[ 1.34106355e-01 -1.11393985e-01  2.30028319e-01 ...  1.10298114e-01\n",
      "   1.44186426e-01 -2.09957308e-02]\n",
      " [ 2.50046082e-02  2.89586933e-02 -5.53462580e-02 ... -3.63568534e-03\n",
      "  -1.45833261e-01 -8.44091178e-02]\n",
      " [-5.30197768e-03 -1.53091706e-01  1.73262008e-01 ... -7.57256461e-02\n",
      "   1.67669537e-01 -1.60199650e-01]\n",
      " ...\n",
      " [ 1.54444936e-02 -6.06007606e-03  9.67649273e-03 ... -8.52633123e-03\n",
      "  -2.39509094e-04  4.51104042e-04]\n",
      " [-2.25572595e-02  8.08896981e-02  7.52239773e-02 ... -8.95105883e-02\n",
      "   1.70245370e-01  1.81897158e-01]\n",
      " [ 1.00635659e-01 -1.38213657e-01  1.73103000e-04 ...  2.47480366e-02\n",
      "   1.45707454e-01 -2.84548019e-02]]\n",
      "b2: [-0.16364835  0.24137707 -0.01856815 -0.07133405  0.02976911  0.31530881\n",
      " -0.01918504  0.15193013 -0.40445348 -0.06119603]\n"
     ]
    }
   ],
   "source": [
    "# Print the final parameter values\n",
    "print(\"\\nFinal Parameter Values:\")\n",
    "print(\"W1:\", W1)\n",
    "print(\"b1:\", b1)\n",
    "print(\"W2:\", W2)\n",
    "print(\"b2:\", b2)"
   ]
  },
  {
   "attachments": {},
   "cell_type": "markdown",
   "metadata": {},
   "source": [
    "<a id='7'></a>\n",
    "## Plot the initial and final weight distribution comparison"
   ]
  },
  {
   "cell_type": "code",
   "execution_count": 10,
   "metadata": {},
   "outputs": [
    {
     "data": {
      "image/png": "[encoded data removed]",
      "text/plain": [
       "<Figure size 1000x500 with 2 Axes>"
      ]
     },
     "metadata": {},
     "output_type": "display_data"
    }
   ],
   "source": [
    "# Plot the initial and final weight comparison\n",
    "plt.figure(figsize=(10, 5))\n",
    "plt.subplot(1, 2, 1)\n",
    "plt.hist(W1.flatten(), bins=50, alpha=0.5, color='blue')\n",
    "plt.title(\"Initial Weight Distribution\")\n",
    "plt.xlabel(\"Weight Value\")\n",
    "plt.ylabel(\"Frequency\")\n",
    "plt.subplot(1, 2, 2)\n",
    "plt.hist(W2.flatten(), bins=50, alpha=0.5, color='red')\n",
    "plt.title(\"Final Weight Distribution\")\n",
    "plt.xlabel(\"Weight Value\")\n",
    "plt.ylabel(\"Frequency\")\n",
    "plt.tight_layout()\n",
    "plt.show()"
   ]
  },
  {
   "attachments": {},
   "cell_type": "markdown",
   "metadata": {},
   "source": [
    "<a id='8'></a>\n",
    "## Plot the accuracy vs. epoch  and F1 score"
   ]
  },
  {
   "cell_type": "code",
   "execution_count": 11,
   "metadata": {},
   "outputs": [
    {
     "data": {
      "image/png": "[encoded data removed]",
      "text/plain": [
       "<Figure size 640x480 with 1 Axes>"
      ]
     },
     "metadata": {},
     "output_type": "display_data"
    }
   ],
   "source": [
    "# Plot the accuracy vs. epoch\n",
    "plt.plot(range(1, num_epochs+1), train_accuracies, label='Train Accuracy')\n",
    "plt.plot(range(1, num_epochs+1), test_accuracies, label='Test Accuracy')\n",
    "plt.xlabel('Epoch')\n",
    "plt.ylabel('Accuracy')\n",
    "plt.legend()\n",
    "plt.show()"
   ]
  },
  {
   "cell_type": "code",
   "execution_count": 13,
   "metadata": {},
   "outputs": [
    {
     "name": "stdout",
     "output_type": "stream",
     "text": [
      "\n",
      "Test F1-Score: 0.9214446223802867\n"
     ]
    }
   ],
   "source": [
    "# Print the F1-Score\n",
    "test_f1_score = f1_score(y_test, y_test_pred, average='macro')\n",
    "print(\"\\nTest F1-Score:\", test_f1_score)"
   ]
  },
  {
   "attachments": {},
   "cell_type": "markdown",
   "metadata": {},
   "source": [
    "<a id='9'></a>\n",
    "## Make predictions on the test set"
   ]
  },
  {
   "cell_type": "code",
   "execution_count": 14,
   "metadata": {},
   "outputs": [
    {
     "name": "stdout",
     "output_type": "stream",
     "text": [
      "\n",
      "Sample Predictions:\n",
      "Predicted: 8 Actual: 8\n",
      "Predicted: 4 Actual: 4\n",
      "Predicted: 5 Actual: 8\n",
      "Predicted: 7 Actual: 7\n",
      "Predicted: 7 Actual: 7\n",
      "Predicted: 0 Actual: 0\n",
      "Predicted: 6 Actual: 6\n",
      "Predicted: 2 Actual: 2\n",
      "Predicted: 7 Actual: 7\n",
      "Predicted: 4 Actual: 4\n"
     ]
    }
   ],
   "source": [
    "# Make predictions on the test set\n",
    "predictions = np.argmax(y_pred, axis=1)\n",
    "print(\"\\nSample Predictions:\")\n",
    "for i in range(10):\n",
    "    print(\"Predicted:\", predictions[i], \"Actual:\", y_test[i])"
   ]
  },
  {
   "cell_type": "code",
   "execution_count": null,
   "metadata": {},
   "outputs": [],
   "source": []
  },
  {
   "cell_type": "code",
   "execution_count": null,
   "metadata": {},
   "outputs": [],
   "source": []
  },
  {
   "cell_type": "code",
   "execution_count": null,
   "metadata": {},
   "outputs": [],
   "source": []
  }
 ],
 "metadata": {
  "kernelspec": {
   "display_name": "base",
   "language": "python",
   "name": "python3"
  },
  "language_info": {
   "codemirror_mode": {
    "name": "ipython",
    "version": 3
   },
   "file_extension": ".py",
   "mimetype": "text/x-python",
   "name": "python",
   "nbconvert_exporter": "python",
   "pygments_lexer": "ipython3",
   "version": "3.10.9"
  },
  "orig_nbformat": 4
 },
 "nbformat": 4,
 "nbformat_minor": 2
}
