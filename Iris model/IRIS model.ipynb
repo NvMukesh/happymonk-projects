{
 "cells": [
  {
   "attachments": {},
   "cell_type": "markdown",
   "metadata": {},
   "source": [
    "  <tr>\n",
    "        <td width=\"15%\">\n",
    "        </td>\n",
    "        <td>\n",
    "            <div align=\"Middle\">\n",
    "                <font size=25px>\n",
    "                    <b>  Iris multiclass Classifier using ANN with one hidden layer\n",
    "                    </b>\n",
    "                </font>\n",
    "            </div>\n",
    "        </td>\n",
    "    </tr>"
   ]
  },
  {
   "attachments": {},
   "cell_type": "markdown",
   "metadata": {},
   "source": [
    "## Dataset\n",
    "Downloaded directly from the curated repository "
   ]
  },
  {
   "attachments": {},
   "cell_type": "markdown",
   "metadata": {},
   "source": [
    "## Data Definition:\n",
    " 5 columns and 150 records "
   ]
  },
  {
   "attachments": {},
   "cell_type": "markdown",
   "metadata": {},
   "source": [
    "# Content\n",
    "\n",
    "**[1. Import Python modules](#1)**<br>\n",
    "**[2. DEF functions - Activation functions, Neuron Layer, Weigths and bias](#2)**<br>\n",
    "**[3. Model training](#3)**<br>\n",
    "**[4. Epoch def function](#4)**<br>\n",
    "**[5. Model summary](#5)**<br>\n",
    "**[6. Plot loss function vs. epochs and Plot accuracy vs. epochs](#6)**<br>\n",
    "**[7. Print initial and final weights](#7)**<br>"
   ]
  },
  {
   "attachments": {},
   "cell_type": "markdown",
   "metadata": {},
   "source": [
    "<a id='1'></a>\n",
    "## Importing Libraries and Data set"
   ]
  },
  {
   "cell_type": "code",
   "execution_count": 1,
   "metadata": {},
   "outputs": [
    {
     "name": "stderr",
     "output_type": "stream",
     "text": [
      "c:\\ProgramData\\anaconda3\\lib\\site-packages\\sklearn\\preprocessing\\_encoders.py:828: FutureWarning: `sparse` was renamed to `sparse_output` in version 1.2 and will be removed in 1.4. `sparse_output` is ignored unless you leave `sparse` to its default value.\n",
      "  warnings.warn(\n"
     ]
    }
   ],
   "source": [
    "import numpy as np\n",
    "import matplotlib.pyplot as plt\n",
    "from sklearn.datasets import load_iris\n",
    "from sklearn.model_selection import train_test_split\n",
    "from sklearn.metrics import accuracy_score, f1_score\n",
    "from sklearn.preprocessing import OneHotEncoder\n",
    "\n",
    "# Load the IRIS dataset\n",
    "iris = load_iris()\n",
    "X = iris.data\n",
    "y = iris.target\n",
    "\n",
    "# Split the dataset into train and test sets\n",
    "X_train, X_test, y_train, y_test = train_test_split(X, y, test_size=0.2, random_state=42)\n",
    "\n",
    "# One-hot encode the target labels\n",
    "encoder = OneHotEncoder(sparse=False)\n",
    "y_train_encoded = encoder.fit_transform(y_train.reshape(-1, 1))\n",
    "y_test_encoded = encoder.transform(y_test.reshape(-1, 1))\n"
   ]
  },
  {
   "attachments": {},
   "cell_type": "markdown",
   "metadata": {},
   "source": [
    "<a id='2'></a>\n",
    "## DEF functions - Activation functions, Neuron Layer, Weigths and bias"
   ]
  },
  {
   "cell_type": "code",
   "execution_count": 2,
   "metadata": {},
   "outputs": [],
   "source": [
    "# Set the initial parameters\n",
    "np.random.seed(42)\n",
    "m = X_train.shape[1]\n",
    "n = 8\n",
    "p = 4\n",
    "k = len(np.unique(y_train))\n",
    "epochs = 1000\n",
    "learning_rate = 0.01\n",
    "\n",
    "# Initialize the weights and biases\n",
    "W1 = np.random.randn(m, n)\n",
    "b1 = np.zeros((1, n))\n",
    "W2 = np.random.randn(n, p)\n",
    "b2 = np.zeros((1, p))\n",
    "W3 = np.random.randn(p, k)\n",
    "b3 = np.zeros((1, k))\n",
    "K = np.random.randn(3)\n",
    "\n",
    "# Define the activation function\n",
    "def activation_function(x, k0, k1):\n",
    "    return k0 + k1 * x\n",
    "\n",
    "# Forward propagation\n",
    "def forward_propagation(X, W1, b1, W2, b2, K):\n",
    "    z1 = np.dot(X, W1) + b1\n",
    "    a1 = activation_function(z1, K[0], K[1])\n",
    "    z2 = np.dot(a1, W2) + b2\n",
    "    a2 = activation_function(z2, K[0], K[1])\n",
    "    z3 = np.dot(a2, W3) + b3\n",
    "    a3 = softmax(z3)\n",
    "    return z1, a1, z2, a2, z3, a3\n",
    "\n",
    "# Softmax activation function\n",
    "def softmax(x):\n",
    "    exps = np.exp(x - np.max(x, axis=1, keepdims=True))\n",
    "    return exps / np.sum(exps, axis=1, keepdims=True)\n",
    "\n",
    "# Backward propagation\n",
    "def backward_propagation(X, y, z1, a1, z2, a2, z3, a3, W2, K):\n",
    "    m = X.shape[0]\n",
    "    dz3 = a3 - y\n",
    "    dw3 = (1 / m) * np.dot(a2.T, dz3)\n",
    "    db3 = (1 / m) * np.sum(dz3, axis=0)\n",
    "    da2 = np.dot(dz3, W3.T)\n",
    "    dz2 = activation_derivative(a2, K[1]) * da2\n",
    "    dw2 = (1 / m) * np.dot(a1.T, dz2)\n",
    "    db2 = (1 / m) * np.sum(dz2, axis=0)\n",
    "    da1 = np.dot(dz2, W2.T)\n",
    "    dz1 = activation_derivative(a1, K[1]) * da1\n",
    "    dw1 = (1 / m) * np.dot(X.T, dz1)\n",
    "    db1 = (1 / m) * np.sum(dz1, axis=0)\n",
    "    dK2 = np.array([np.mean(da2), np.mean(da2 * z2), np.mean(da2 * z2**2)])\n",
    "    dK1 = np.array([np.mean(da1), np.mean(da1 * z1), np.mean(da1 * z1**2)])\n",
    "    dK = dK2 + dK1\n",
    "    return dw1, db1, dw2, db2, dw3, db3, dK"
   ]
  },
  {
   "attachments": {},
   "cell_type": "markdown",
   "metadata": {},
   "source": [
    "<a id='3'></a>\n",
    "## Model training"
   ]
  },
  {
   "cell_type": "code",
   "execution_count": 3,
   "metadata": {},
   "outputs": [],
   "source": [
    "\n",
    "# Activation derivative\n",
    "def activation_derivative(x, k1):\n",
    "    return k1\n",
    "\n",
    "# Training loop\n",
    "train_losses = []\n",
    "test_losses = []\n",
    "train_accuracies = []\n",
    "test_accuracies = []\n",
    "f1_scores = []\n",
    "\n",
    "for epoch in range(epochs):\n",
    "    # Forward propagation\n",
    "    z1, a1, z2, a2, z3, a3 = forward_propagation(X_train, W1, b1, W2, b2, K)\n",
    "\n",
    "    # Backward propagation\n",
    "    dw1, db1, dw2, db2, dw3, db3, dK = backward_propagation(X_train, y_train_encoded, z1, a1, z2, a2, z3, a3, W2, K)\n",
    "\n",
    "    # Update parameters\n",
    "    W1 -= learning_rate * dw1\n",
    "    b1 -= learning_rate * db1\n",
    "    W2 -= learning_rate * dw2\n",
    "    b2 -= learning_rate * db2\n",
    "    W3 -= learning_rate * dw3\n",
    "    b3 -= learning_rate * db3\n",
    "    K -= learning_rate * dK\n",
    "\n",
    "    # Calculate train and test loss\n",
    "    _, _, _, _, _, train_predictions = forward_propagation(X_train, W1, b1, W2, b2, K)\n",
    "    _, _, _, _, _, test_predictions = forward_propagation(X_test, W1, b1, W2, b2, K)\n",
    "    train_loss = -np.mean(np.sum(y_train_encoded * np.log(train_predictions), axis=1))\n",
    "    test_loss = -np.mean(np.sum(y_test_encoded * np.log(test_predictions), axis=1))\n",
    "    train_losses.append(train_loss)\n",
    "    test_losses.append(test_loss)\n",
    "\n",
    "    # Calculate train and test accuracy\n",
    "    train_accuracy = accuracy_score(y_train, np.argmax(train_predictions, axis=1))\n",
    "    test_accuracy = accuracy_score(y_test, np.argmax(test_predictions, axis=1))\n",
    "    train_accuracies.append(train_accuracy)\n",
    "    test_accuracies.append(test_accuracy)\n",
    "\n",
    "    # Calculate F1-Score\n",
    "    f1 = f1_score(y_test, np.argmax(test_predictions, axis=1), average='weighted')\n",
    "    f1_scores.append(f1)"
   ]
  },
  {
   "attachments": {},
   "cell_type": "markdown",
   "metadata": {},
   "source": [
    "<a id='4'></a>\n",
    "## Epoch def function"
   ]
  },
  {
   "cell_type": "code",
   "execution_count": 8,
   "metadata": {},
   "outputs": [
    {
     "name": "stdout",
     "output_type": "stream",
     "text": [
      "Test Accuracy: 0.40350877192982454\n",
      "F1-Score: 0.9640287769784172\n"
     ]
    }
   ],
   "source": [
    "\n",
    "for epoch in range(epochs):\n",
    "    # Forward propagation\n",
    "    z1, a1, z2, a2, z3, a3 = forward_propagation(X_train, W1, b1, W2, b2, K)\n",
    "\n",
    "    # Backward propagation\n",
    "    dw1, db1, dw2, db2, dw3, db3, dK = backward_propagation(X_train, y_train_encoded, z1, a1, z2, a2, z3, a3, W2, K)\n",
    "\n",
    "    # Update parameters\n",
    "    W1 -= learning_rate * dw1\n",
    "    b1 -= learning_rate * db1\n",
    "    W2 -= learning_rate * dw2\n",
    "    b2 -= learning_rate * db2\n",
    "    W3 -= learning_rate * dw3\n",
    "    b3 -= learning_rate * db3\n",
    "    K -= learning_rate * dK\n",
    "\n",
    "    # Calculate train and test loss\n",
    "    _, _, _, _, _, train_predictions = forward_propagation(X_train, W1, b1, W2, b2, K)\n",
    "    _, _, _, _, _, test_predictions = forward_propagation(X_test, W1, b1, W2, b2, K)\n",
    "    train_loss = -np.mean(np.sum(y_train_encoded * np.log(train_predictions), axis=1))\n",
    "    test_loss = -np.mean(np.sum(y_test_encoded * np.log(test_predictions), axis=1))\n",
    "    train_losses.append(train_loss)\n",
    "    test_losses.append(test_loss)\n",
    "\n",
    "    # Calculate train and test accuracy\n",
    "    train_accuracy = accuracy_score(y_train, np.argmax(train_predictions, axis=1))\n",
    "    test_accuracy = accuracy_score(y_test, np.argmax(test_predictions, axis=1))\n",
    "    train_accuracies.append(train_accuracy)\n",
    "    test_accuracies.append(test_accuracy)\n",
    "\n",
    "    # Calculate F1-Score\n",
    "    f1 = f1_score(y_test, np.argmax(test_predictions, axis=1), average='weighted')\n",
    "    f1_scores.append(f1)"
   ]
  },
  {
   "attachments": {},
   "cell_type": "markdown",
   "metadata": {},
   "source": [
    "<a id='5'></a>\n",
    "## Model summary"
   ]
  },
  {
   "cell_type": "code",
   "execution_count": 9,
   "metadata": {},
   "outputs": [
    {
     "name": "stdout",
     "output_type": "stream",
     "text": [
      "Confusion Matrix:\n",
      "[[42  1]\n",
      " [ 4 67]]\n"
     ]
    }
   ],
   "source": [
    "# Model summary\n",
    "print(\"\\nModel Summary:\")\n",
    "print(\"Number of features:\", m)\n",
    "print(\"Number of hidden nodes:\", n)\n",
    "print(\"Number of output nodes:\", k)\n",
    "print(\"Number of training examples:\", X_train.shape[0])\n",
    "print(\"Number of test examples:\", X_test.shape[0])\n",
    "print(\"Number of epochs:\", epochs)"
   ]
  },
  {
   "attachments": {},
   "cell_type": "markdown",
   "metadata": {},
   "source": [
    "<a id='6'></a>\n",
    "## Plot loss function vs. epochs and Plot accuracy vs. epochs"
   ]
  },
  {
   "cell_type": "code",
   "execution_count": 10,
   "metadata": {},
   "outputs": [
    {
     "data": {
      "image/png": "[encoded data removed]",
      "text/plain": [
       "<Figure size 640x480 with 1 Axes>"
      ]
     },
     "metadata": {},
     "output_type": "display_data"
    },
    {
     "data": {
      "image/png": "[encoded data removed]",
      "text/plain": [
       "<Figure size 640x480 with 1 Axes>"
      ]
     },
     "metadata": {},
     "output_type": "display_data"
    }
   ],
   "source": [
    "\n",
    "# Plot the loss function vs. epochs\n",
    "plt.figure(figsize=(10, 5))\n",
    "plt.subplot(1, 2, 1)\n",
    "plt.plot(range(epochs), train_losses, label='Train')\n",
    "plt.plot(range(epochs), test_losses, label='Test')\n",
    "plt.xlabel('Epochs')\n",
    "plt.ylabel('Loss')\n",
    "plt.legend()\n",
    "\n",
    "# Plot accuracy vs. epochs\n",
    "plt.subplot(1, 2, 2)\n",
    "plt.plot(range(epochs), train_accuracies, label='Train')\n",
    "plt.plot(range(epochs), test_accuracies, label='Test')\n",
    "plt.xlabel('Epochs')\n",
    "plt.ylabel('Accuracy')\n",
    "plt.legend()\n",
    "\n",
    "# Show the plots\n",
    "plt.show()"
   ]
  },
  {
   "attachments": {},
   "cell_type": "markdown",
   "metadata": {},
   "source": [
    "<a id='7'></a>\n",
    "## Print initial and final weights"
   ]
  },
  {
   "cell_type": "code",
   "execution_count": 11,
   "metadata": {},
   "outputs": [
    {
     "name": "stdout",
     "output_type": "stream",
     "text": [
      "Initial Weights:\n",
      "k0: 0.031984298907919075\n",
      "k1: 1.2746485624981887\n",
      "w1: [[ 1.30545794e+00 -5.27673030e-01  1.97635484e+00 -8.43457444e-01\n",
      "   1.78241840e+00]\n",
      " [-1.05850374e+00  1.59522394e-01  2.51838506e+00 -1.92475986e+00\n",
      "   1.01895442e+00]\n",
      " [ 2.26029934e+00 -2.21573001e+00  2.22038536e+00 -1.19165509e+00\n",
      "   4.91638091e-01]\n",
      " [ 1.82489710e+00  9.46573437e-01  2.59896500e+00 -2.78007726e+00\n",
      "   2.03055941e+00]\n",
      " [ 1.49868498e+00 -6.07564089e-01 -3.62798861e-01 -3.28817772e-01\n",
      "   3.22271523e-01]\n",
      " [-6.15127837e-01 -1.16687951e+00  3.60844444e+00 -1.07947564e+00\n",
      "   8.68397608e-02]\n",
      " [ 1.17827255e+00 -8.71438361e-01  3.98404407e+00 -2.85491969e-01\n",
      "   2.84569715e+00]\n",
      " [ 6.97364894e-02 -2.82170361e+00  5.34414704e+00 -1.10046024e+00\n",
      "   2.80847113e+00]\n",
      " [-7.71779684e-01 -4.40957539e-01  1.55665210e+00 -8.01752441e-01\n",
      "  -2.06684895e-01]\n",
      " [-5.56386532e-01 -1.99102156e-02  2.63717658e-01  4.68072210e-02\n",
      "  -4.83943031e-01]\n",
      " [-1.31624538e-01 -1.12890682e+00  2.29437581e+00  1.49223427e-01\n",
      "   2.71083969e+00]\n",
      " [-6.93559702e-01 -6.62841159e-01  6.47099338e-01  6.12414653e-01\n",
      "   1.61054635e+00]\n",
      " [ 1.43866677e+00 -2.18817828e+00  7.17452708e-01 -1.70795821e+00\n",
      "   1.88705831e+00]\n",
      " [-8.01635484e-01 -7.78009280e-01  2.30390230e+00 -1.94086042e+00\n",
      "  -2.14556723e-02]\n",
      " [ 5.03201930e-01  2.52570527e-04 -1.55530646e-01  1.18749977e+00\n",
      "  -1.34435951e+00]\n",
      " [-1.68238399e-01  2.66857435e-01  1.70555834e+00 -2.00657498e+00\n",
      "   7.21284586e-02]\n",
      " [ 1.94582885e+00 -1.31542069e+00  1.43958941e+00  2.83828839e-01\n",
      "  -1.37172466e+00]\n",
      " [ 7.44917160e-01 -5.86079961e-01  3.53830128e-01 -1.69760125e+00\n",
      "   3.31746141e+00]\n",
      " [ 8.63442700e-01 -8.75548385e-01  1.72273725e-01 -8.40525356e-01\n",
      "  -1.36970611e+00]\n",
      " [-4.96898146e-02 -5.69693627e-02 -3.56110685e-01  7.62671889e-01\n",
      "   3.64027877e-01]\n",
      " [-1.02645355e+00  5.48512137e-01  8.85107989e-01 -7.86003480e-01\n",
      "   3.43002322e+00]\n",
      " [ 5.10724966e-01 -4.28310758e-01  1.94452876e+00 -6.50457553e-01\n",
      "   1.36112858e+00]\n",
      " [-1.18944748e+00 -2.29960106e+00  1.40886597e+00 -4.97882597e-01\n",
      "   2.33889562e+00]\n",
      " [ 1.32094843e+00 -7.42040322e-01  4.34937366e+00  5.97046430e-01\n",
      "   3.23657219e+00]\n",
      " [ 1.09007443e+00 -9.92751040e-01  6.63286558e-01 -9.02634028e-01\n",
      "  -5.45767565e-02]\n",
      " [-4.68039537e-01 -2.80237576e+00  2.85442167e+00 -1.63318444e+00\n",
      "   2.65055388e+00]\n",
      " [ 1.57207817e+00  4.47778719e-02  1.98778438e+00 -6.53685874e-01\n",
      "   1.10149925e+00]\n",
      " [ 3.48403732e-01 -1.54088704e+00  2.37131526e+00 -2.50987028e+00\n",
      "   2.02487846e+00]\n",
      " [ 8.20517792e-01  2.80518565e-01  1.53047599e+00 -7.94339672e-01\n",
      "   1.20615907e+00]\n",
      " [-3.27867761e-01 -1.95013336e+00 -2.09520341e-01 -1.36088130e+00\n",
      "   1.31554314e+00]]\n",
      "b1: [[-0.083564    0.34333973 -0.78378331  0.49128248 -0.73573014]]\n",
      "w2: [[-1.37550919 -1.563259  ]\n",
      " [ 3.34925201  3.32894684]\n",
      " [-7.53201118 -7.27665828]\n",
      " [ 3.45147815  4.13097473]\n",
      " [-5.74987668 -5.98002582]]\n",
      "b2: [[0.15138246 0.1057604 ]]\n",
      "\n",
      "Final Weights:\n",
      "k0: 0.031984298907919075\n",
      "k1: 1.2746485624981887\n",
      "w1: [[ 1.30545794e+00 -5.27673030e-01  1.97635484e+00 -8.43457444e-01\n",
      "   1.78241840e+00]\n",
      " [-1.05850374e+00  1.59522394e-01  2.51838506e+00 -1.92475986e+00\n",
      "   1.01895442e+00]\n",
      " [ 2.26029934e+00 -2.21573001e+00  2.22038536e+00 -1.19165509e+00\n",
      "   4.91638091e-01]\n",
      " [ 1.82489710e+00  9.46573437e-01  2.59896500e+00 -2.78007726e+00\n",
      "   2.03055941e+00]\n",
      " [ 1.49868498e+00 -6.07564089e-01 -3.62798861e-01 -3.28817772e-01\n",
      "   3.22271523e-01]\n",
      " [-6.15127837e-01 -1.16687951e+00  3.60844444e+00 -1.07947564e+00\n",
      "   8.68397608e-02]\n",
      " [ 1.17827255e+00 -8.71438361e-01  3.98404407e+00 -2.85491969e-01\n",
      "   2.84569715e+00]\n",
      " [ 6.97364894e-02 -2.82170361e+00  5.34414704e+00 -1.10046024e+00\n",
      "   2.80847113e+00]\n",
      " [-7.71779684e-01 -4.40957539e-01  1.55665210e+00 -8.01752441e-01\n",
      "  -2.06684895e-01]\n",
      " [-5.56386532e-01 -1.99102156e-02  2.63717658e-01  4.68072210e-02\n",
      "  -4.83943031e-01]\n",
      " [-1.31624538e-01 -1.12890682e+00  2.29437581e+00  1.49223427e-01\n",
      "   2.71083969e+00]\n",
      " [-6.93559702e-01 -6.62841159e-01  6.47099338e-01  6.12414653e-01\n",
      "   1.61054635e+00]\n",
      " [ 1.43866677e+00 -2.18817828e+00  7.17452708e-01 -1.70795821e+00\n",
      "   1.88705831e+00]\n",
      " [-8.01635484e-01 -7.78009280e-01  2.30390230e+00 -1.94086042e+00\n",
      "  -2.14556723e-02]\n",
      " [ 5.03201930e-01  2.52570527e-04 -1.55530646e-01  1.18749977e+00\n",
      "  -1.34435951e+00]\n",
      " [-1.68238399e-01  2.66857435e-01  1.70555834e+00 -2.00657498e+00\n",
      "   7.21284586e-02]\n",
      " [ 1.94582885e+00 -1.31542069e+00  1.43958941e+00  2.83828839e-01\n",
      "  -1.37172466e+00]\n",
      " [ 7.44917160e-01 -5.86079961e-01  3.53830128e-01 -1.69760125e+00\n",
      "   3.31746141e+00]\n",
      " [ 8.63442700e-01 -8.75548385e-01  1.72273725e-01 -8.40525356e-01\n",
      "  -1.36970611e+00]\n",
      " [-4.96898146e-02 -5.69693627e-02 -3.56110685e-01  7.62671889e-01\n",
      "   3.64027877e-01]\n",
      " [-1.02645355e+00  5.48512137e-01  8.85107989e-01 -7.86003480e-01\n",
      "   3.43002322e+00]\n",
      " [ 5.10724966e-01 -4.28310758e-01  1.94452876e+00 -6.50457553e-01\n",
      "   1.36112858e+00]\n",
      " [-1.18944748e+00 -2.29960106e+00  1.40886597e+00 -4.97882597e-01\n",
      "   2.33889562e+00]\n",
      " [ 1.32094843e+00 -7.42040322e-01  4.34937366e+00  5.97046430e-01\n",
      "   3.23657219e+00]\n",
      " [ 1.09007443e+00 -9.92751040e-01  6.63286558e-01 -9.02634028e-01\n",
      "  -5.45767565e-02]\n",
      " [-4.68039537e-01 -2.80237576e+00  2.85442167e+00 -1.63318444e+00\n",
      "   2.65055388e+00]\n",
      " [ 1.57207817e+00  4.47778719e-02  1.98778438e+00 -6.53685874e-01\n",
      "   1.10149925e+00]\n",
      " [ 3.48403732e-01 -1.54088704e+00  2.37131526e+00 -2.50987028e+00\n",
      "   2.02487846e+00]\n",
      " [ 8.20517792e-01  2.80518565e-01  1.53047599e+00 -7.94339672e-01\n",
      "   1.20615907e+00]\n",
      " [-3.27867761e-01 -1.95013336e+00 -2.09520341e-01 -1.36088130e+00\n",
      "   1.31554314e+00]]\n",
      "b1: [[-0.083564    0.34333973 -0.78378331  0.49128248 -0.73573014]]\n",
      "w2: [[-1.37550919 -1.563259  ]\n",
      " [ 3.34925201  3.32894684]\n",
      " [-7.53201118 -7.27665828]\n",
      " [ 3.45147815  4.13097473]\n",
      " [-5.74987668 -5.98002582]]\n",
      "b2: [[0.15138246 0.1057604 ]]\n"
     ]
    }
   ],
   "source": [
    "# Print initial and final weights\n",
    "print(\"Initial Weights:\")\n",
    "print(\"W1:\\n\", W1)\n",
    "print(\"b1:\\n\", b1)\n",
    "print(\"W2:\\n\", W2)\n",
    "print(\"b2:\\n\", b2)\n",
    "print(\"W3:\\n\", W3)\n",
    "print(\"b3:\\n\", b3)\n",
    "print(\"K:\\n\", K)\n",
    "print(\"\\nFinal Weights:\")\n",
    "print(\"W1:\\n\", W1)\n",
    "print(\"b1:\\n\", b1)\n",
    "print(\"W2:\\n\", W2)\n",
    "print(\"b2:\\n\", b2)\n",
    "print(\"W3:\\n\", W3)\n",
    "print(\"b3:\\n\", b3)\n",
    "print(\"K:\\n\", K)"
   ]
  },
  {
   "cell_type": "code",
   "execution_count": null,
   "metadata": {},
   "outputs": [],
   "source": []
  },
  {
   "cell_type": "code",
   "execution_count": null,
   "metadata": {},
   "outputs": [],
   "source": []
  },
  {
   "cell_type": "code",
   "execution_count": null,
   "metadata": {},
   "outputs": [],
   "source": []
  }
 ],
 "metadata": {
  "kernelspec": {
   "display_name": "base",
   "language": "python",
   "name": "python3"
  },
  "language_info": {
   "codemirror_mode": {
    "name": "ipython",
    "version": 3
   },
   "file_extension": ".py",
   "mimetype": "text/x-python",
   "name": "python",
   "nbconvert_exporter": "python",
   "pygments_lexer": "ipython3",
   "version": "3.10.9"
  },
  "orig_nbformat": 4
 },
 "nbformat": 4,
 "nbformat_minor": 2
}
